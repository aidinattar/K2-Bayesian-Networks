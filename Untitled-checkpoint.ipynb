{
 "cells": [
  {
   "cell_type": "markdown",
   "id": "97edee1e",
   "metadata": {},
   "source": [
    "# <center> Learning the topology of a Bayesian Network from a database of cases using the K2 algorithm "
   ]
  },
  {
   "cell_type": "markdown",
   "id": "38c351f3",
   "metadata": {},
   "source": [
    "## Imports\n"
   ]
  },
  {
   "cell_type": "code",
   "execution_count": null,
   "id": "b4b3fda7",
   "metadata": {},
   "outputs": [],
   "source": []
  },
  {
   "cell_type": "markdown",
   "id": "719bc67d",
   "metadata": {},
   "source": [
    "The aim of this project is to build a probabilistic network from the following database called D:"
   ]
  },
  {
   "cell_type": "code",
   "execution_count": 4,
   "id": "c8d2462d",
   "metadata": {},
   "outputs": [
    {
     "data": {
      "text/html": [
       "<table class=\"dataframe\">\n",
       "<caption>A data.frame: 10 × 4</caption>\n",
       "<thead>\n",
       "\t<tr><th scope=col>case</th><th scope=col>x1</th><th scope=col>x2</th><th scope=col>x3</th></tr>\n",
       "\t<tr><th scope=col>&lt;int&gt;</th><th scope=col>&lt;dbl&gt;</th><th scope=col>&lt;dbl&gt;</th><th scope=col>&lt;dbl&gt;</th></tr>\n",
       "</thead>\n",
       "<tbody>\n",
       "\t<tr><td> 1</td><td>1</td><td>0</td><td>0</td></tr>\n",
       "\t<tr><td> 2</td><td>1</td><td>1</td><td>1</td></tr>\n",
       "\t<tr><td> 3</td><td>0</td><td>0</td><td>1</td></tr>\n",
       "\t<tr><td> 4</td><td>1</td><td>1</td><td>1</td></tr>\n",
       "\t<tr><td> 5</td><td>0</td><td>0</td><td>0</td></tr>\n",
       "\t<tr><td> 6</td><td>0</td><td>1</td><td>1</td></tr>\n",
       "\t<tr><td> 7</td><td>1</td><td>1</td><td>1</td></tr>\n",
       "\t<tr><td> 8</td><td>0</td><td>0</td><td>0</td></tr>\n",
       "\t<tr><td> 9</td><td>1</td><td>1</td><td>1</td></tr>\n",
       "\t<tr><td>10</td><td>0</td><td>0</td><td>0</td></tr>\n",
       "</tbody>\n",
       "</table>\n"
      ],
      "text/latex": [
       "A data.frame: 10 × 4\n",
       "\\begin{tabular}{llll}\n",
       " case & x1 & x2 & x3\\\\\n",
       " <int> & <dbl> & <dbl> & <dbl>\\\\\n",
       "\\hline\n",
       "\t  1 & 1 & 0 & 0\\\\\n",
       "\t  2 & 1 & 1 & 1\\\\\n",
       "\t  3 & 0 & 0 & 1\\\\\n",
       "\t  4 & 1 & 1 & 1\\\\\n",
       "\t  5 & 0 & 0 & 0\\\\\n",
       "\t  6 & 0 & 1 & 1\\\\\n",
       "\t  7 & 1 & 1 & 1\\\\\n",
       "\t  8 & 0 & 0 & 0\\\\\n",
       "\t  9 & 1 & 1 & 1\\\\\n",
       "\t 10 & 0 & 0 & 0\\\\\n",
       "\\end{tabular}\n"
      ],
      "text/markdown": [
       "\n",
       "A data.frame: 10 × 4\n",
       "\n",
       "| case &lt;int&gt; | x1 &lt;dbl&gt; | x2 &lt;dbl&gt; | x3 &lt;dbl&gt; |\n",
       "|---|---|---|---|\n",
       "|  1 | 1 | 0 | 0 |\n",
       "|  2 | 1 | 1 | 1 |\n",
       "|  3 | 0 | 0 | 1 |\n",
       "|  4 | 1 | 1 | 1 |\n",
       "|  5 | 0 | 0 | 0 |\n",
       "|  6 | 0 | 1 | 1 |\n",
       "|  7 | 1 | 1 | 1 |\n",
       "|  8 | 0 | 0 | 0 |\n",
       "|  9 | 1 | 1 | 1 |\n",
       "| 10 | 0 | 0 | 0 |\n",
       "\n"
      ],
      "text/plain": [
       "   case x1 x2 x3\n",
       "1   1   1  0  0 \n",
       "2   2   1  1  1 \n",
       "3   3   0  0  1 \n",
       "4   4   1  1  1 \n",
       "5   5   0  0  0 \n",
       "6   6   0  1  1 \n",
       "7   7   1  1  1 \n",
       "8   8   0  0  0 \n",
       "9   9   1  1  1 \n",
       "10 10   0  0  0 "
      ]
     },
     "metadata": {},
     "output_type": "display_data"
    }
   ],
   "source": [
    "case  <- 1:10\n",
    "x1    <- c(1,1,0,1,0,0,1,0,1,0)\n",
    "x2    <- c(0,1,0,1,0,1,1,0,1,0)\n",
    "x3    <- c(0,1,1,1,0,1,1,0,1,0)\n",
    "\n",
    "D <- data.frame(case, x1, x2, x3)\n",
    "D"
   ]
  },
  {
   "cell_type": "markdown",
   "id": "7fd41e4b",
   "metadata": {},
   "source": [
    "Where each record (row) is called $case$.\n",
    "In particular we want to find dependencies among the variables Z = {x1, x2, x3} in D. \n",
    "\n",
    "The idea is to build an algorithm that provides the most probable (higher posterior) Bayesian belief network structure B given D and some assumptions about our prior probabilistic knowledge on the domain.\n",
    "\n",
    "Where A belief network is defined by B =($B_s$, $B_p$).\n",
    "\n",
    "  add scheme \n",
    "\n",
    "\n",
    "#### assumptions for computing $P(B_s, D)$\n",
    "* 1- The database variables, which we denote as Z, are discrete.\n",
    "* 2-  Cases occur independently, given a belief-network model.\n",
    "* 3- There are no cases that have variables with missing values.\n",
    "* 4- The likelihhod function f(BelBs) is uniform.\n",
    "\n",
    "#### notation\n",
    "* m = cases in D\n",
    "* $parents$: variables related to $x_i$\n",
    "* $\\pi_i$ = set of parents related to $x_i$\n",
    "* If a node has no parents, then a prior-probability function $P(x_i)$ is specified\n",
    "* $w_{ij}$ a value of $\\pi_i$\n",
    "* $Z = \\{x\\}_i$, i = 1,..,n set of variables\n",
    "* n = Z size \n",
    "* $v_i = (v_{i1},...,v_{ir_i})$ : possible value assignments\n",
    "* $r_i$ = size of $v_i$\n",
    "* $w_i = \\{ w_{ij}, j = 1,..,r_j\\}$ unique instantiation of $\\pi_i$ relative to D. \n",
    "* $q_i$ = size of $w_i$ \n",
    "* $N_{ijk}$: number of cases in D in which variable $x_i$ has the value $v_{ik}$ and $\\pi_i$ is instantiated as $w_{ij}$\n",
    "#### in our problem: \n",
    "\n",
    "* m = 10\n",
    "* n = 3\n",
    "* Z = {$x_1$, $x_2$, $x_3$}\n",
    "* $r_1$ = $r_2$ = $r_3$ = 2\n",
    "* $v_i = (v_{i1},...,v_{ir_i})$ = $(v_{i1},v_{i2})$=(0,1) \n",
    "* $q_1$ = $q_2$ = $q_3$ = 2\n",
    "* $w_i = (w_{i1},...,w_{iq_i})$ = $(w_{i1},w_{i2})$=(0,1) \n",
    "* $N_{111}$ = dove $x_1$ ha il valore 0 e i suoi parents anche (non ha parents) = 5\n",
    "* $N_{112}$ = 5\n",
    "* $N_{121}$ = 5\n",
    "* $N_{122}$ = 5\n",
    "\n",
    "* $N_{211}$ = 4 dove $x_2$ ha il valore 0 e i suoi parenti ($x_1$) anche\n",
    "* $N_{212}$ = 1 dove $x_2$ ha il valore 1 e i suoi parenti ($x_1$) 0 \n",
    "* $N_{221}$ = 1\n",
    "* $N_{222}$ = 4\n",
    "\n",
    "* $N_{311}$ = ($x_3$ = 0, $x_2$ = 0) = 4\n",
    "* $N_{312}$ = ($x_3$ = 1, $x_2$ = 0) = 1\n",
    "* $N_{321}$ = ($x_3$ = 0, $x_2$ = 1) = 0\n",
    "* $N_{322}$ = ($x_3$ = 1, $x_2$ = 1) = 5"
   ]
  },
  {
   "cell_type": "code",
   "execution_count": 87,
   "id": "1c81f896",
   "metadata": {},
   "outputs": [
    {
     "data": {
      "text/html": [
       "<table class=\"dataframe\">\n",
       "<caption>A matrix: 2 × 2 of type dbl</caption>\n",
       "<tbody>\n",
       "\t<tr><td>1</td><td>5</td></tr>\n",
       "\t<tr><td>2</td><td>4</td></tr>\n",
       "</tbody>\n",
       "</table>\n"
      ],
      "text/latex": [
       "A matrix: 2 × 2 of type dbl\n",
       "\\begin{tabular}{ll}\n",
       "\t 1 & 5\\\\\n",
       "\t 2 & 4\\\\\n",
       "\\end{tabular}\n"
      ],
      "text/markdown": [
       "\n",
       "A matrix: 2 × 2 of type dbl\n",
       "\n",
       "| 1 | 5 |\n",
       "| 2 | 4 |\n",
       "\n"
      ],
      "text/plain": [
       "     [,1] [,2]\n",
       "[1,] 1    5   \n",
       "[2,] 2    4   "
      ]
     },
     "metadata": {},
     "output_type": "display_data"
    },
    {
     "data": {
      "text/html": [
       "<style>\n",
       ".list-inline {list-style: none; margin:0; padding: 0}\n",
       ".list-inline>li {display: inline-block}\n",
       ".list-inline>li:not(:last-child)::after {content: \"\\00b7\"; padding: 0 .5ex}\n",
       "</style>\n",
       "<ol class=list-inline><li>120</li><li>24</li></ol>\n"
      ],
      "text/latex": [
       "\\begin{enumerate*}\n",
       "\\item 120\n",
       "\\item 24\n",
       "\\end{enumerate*}\n"
      ],
      "text/markdown": [
       "1. 120\n",
       "2. 24\n",
       "\n",
       "\n"
      ],
      "text/plain": [
       "[1] 120  24"
      ]
     },
     "metadata": {},
     "output_type": "display_data"
    },
    {
     "data": {
      "text/html": [
       "20"
      ],
      "text/latex": [
       "20"
      ],
      "text/markdown": [
       "20"
      ],
      "text/plain": [
       "[1] 20"
      ]
     },
     "metadata": {},
     "output_type": "display_data"
    },
    {
     "data": {
      "text/html": [
       "2880"
      ],
      "text/latex": [
       "2880"
      ],
      "text/markdown": [
       "2880"
      ],
      "text/plain": [
       "[1] 2880"
      ]
     },
     "metadata": {},
     "output_type": "display_data"
    }
   ],
   "source": [
    "vi <- unique(D$x1)\n",
    "ri <- length(vi)\n",
    "\n",
    "N <- matrix(nrow = 2, ncol = 2)\n",
    "\n",
    "N[1] <- 1\n",
    "N[2] <- 2\n",
    "N[3] <- 3\n",
    "N[4] <- 4\n",
    "N[row = 1, col = 2] <- 5\n",
    "N\n",
    "factorial(N[, col = 2])\n",
    "prod(N[, col = 2])\n",
    "prod(factorial(N[, col = 2]))"
   ]
  },
  {
   "cell_type": "code",
   "execution_count": 88,
   "id": "1c1d6a5c",
   "metadata": {},
   "outputs": [],
   "source": [
    "# da usare dentro K2\n",
    "# gli passo tipo x2 e x1\n",
    "f <- function(xi, pi ){\n",
    "\n",
    "    vi <- unique(xi)\n",
    "    ri <- length(vi)\n",
    "    wi <- unique(pi)\n",
    "    qi <- length(wi)\n",
    "    \n",
    "    N <- matrix(nrow = ri, ncol = qi)\n",
    "    f <- 1\n",
    "    for (j in 1:qi){\n",
    "        for (k in 1:ri){\n",
    "            N[row = k, col = j] <- sum(xi == vi[k] & pi == wi[j])\n",
    "        }\n",
    "        f <- f*factorial(ri-1)*prod(factorial(N[, col = j]))/factorial(sum(N[, col = j])+ri-1)\n",
    "    }\n",
    "    \n",
    "    return (f)\n",
    "}\n"
   ]
  },
  {
   "cell_type": "code",
   "execution_count": 90,
   "id": "ce062538",
   "metadata": {},
   "outputs": [
    {
     "data": {
      "text/html": [
       "0.00111111111111111"
      ],
      "text/latex": [
       "0.00111111111111111"
      ],
      "text/markdown": [
       "0.00111111111111111"
      ],
      "text/plain": [
       "[1] 0.001111111"
      ]
     },
     "metadata": {},
     "output_type": "display_data"
    }
   ],
   "source": [
    "xi <- D$x2\n",
    "pi <- D$x1\n",
    "f(xi, pi )"
   ]
  },
  {
   "cell_type": "code",
   "execution_count": null,
   "id": "3c5acc6c",
   "metadata": {},
   "outputs": [],
   "source": [
    "K2 <- function() {\n",
    "# Input: A set of n nodes = 3 \n",
    "#        an ordering on the nodes, (permutation of {1,2,3})\n",
    "#        an upper bound u on the number of parents a node may have (n-1), \n",
    "#        a database D containing m cases\n",
    "# Output: For each node, a printout of the parents of the node.}\n",
    "\n",
    "    \n",
    "}"
   ]
  }
 ],
 "metadata": {
  "kernelspec": {
   "display_name": "R",
   "language": "R",
   "name": "ir"
  },
  "language_info": {
   "codemirror_mode": "r",
   "file_extension": ".r",
   "mimetype": "text/x-r-source",
   "name": "R",
   "pygments_lexer": "r",
   "version": "4.1.2"
  }
 },
 "nbformat": 4,
 "nbformat_minor": 5
}
