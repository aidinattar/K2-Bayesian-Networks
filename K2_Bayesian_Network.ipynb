{
 "cells": [
  {
   "cell_type": "markdown",
   "id": "97edee1e",
   "metadata": {},
   "source": [
    "# <center> Learning the topology of a Bayesian Network from a database of cases using the K2 algorithm "
   ]
  },
  {
   "cell_type": "markdown",
   "id": "38c351f3",
   "metadata": {},
   "source": [
    "## Imports\n"
   ]
  },
  {
   "cell_type": "code",
   "execution_count": 16,
   "id": "b4b3fda7",
   "metadata": {
    "scrolled": true
   },
   "outputs": [
    {
     "ename": "ERROR",
     "evalue": "Error in library(Rgraphviz): there is no package called ‘Rgraphviz’\n",
     "output_type": "error",
     "traceback": [
      "Error in library(Rgraphviz): there is no package called ‘Rgraphviz’\nTraceback:\n",
      "1. library(Rgraphviz)"
     ]
    }
   ],
   "source": [
    "library(dplyr)\n",
    "library(Rgraphviz)"
   ]
  },
  {
   "cell_type": "markdown",
   "id": "719bc67d",
   "metadata": {},
   "source": [
    "The aim of this project is to build a probabilistic network from the following database called D:"
   ]
  },
  {
   "cell_type": "code",
   "execution_count": 2,
   "id": "c8d2462d",
   "metadata": {},
   "outputs": [
    {
     "data": {
      "text/html": [
       "<table class=\"dataframe\">\n",
       "<caption>A data.frame: 10 × 4</caption>\n",
       "<thead>\n",
       "\t<tr><th scope=col>case</th><th scope=col>x1</th><th scope=col>x2</th><th scope=col>x3</th></tr>\n",
       "\t<tr><th scope=col>&lt;int&gt;</th><th scope=col>&lt;dbl&gt;</th><th scope=col>&lt;dbl&gt;</th><th scope=col>&lt;dbl&gt;</th></tr>\n",
       "</thead>\n",
       "<tbody>\n",
       "\t<tr><td> 1</td><td>1</td><td>0</td><td>0</td></tr>\n",
       "\t<tr><td> 2</td><td>1</td><td>1</td><td>1</td></tr>\n",
       "\t<tr><td> 3</td><td>0</td><td>0</td><td>1</td></tr>\n",
       "\t<tr><td> 4</td><td>1</td><td>1</td><td>1</td></tr>\n",
       "\t<tr><td> 5</td><td>0</td><td>0</td><td>0</td></tr>\n",
       "\t<tr><td> 6</td><td>0</td><td>1</td><td>1</td></tr>\n",
       "\t<tr><td> 7</td><td>1</td><td>1</td><td>1</td></tr>\n",
       "\t<tr><td> 8</td><td>0</td><td>0</td><td>0</td></tr>\n",
       "\t<tr><td> 9</td><td>1</td><td>1</td><td>1</td></tr>\n",
       "\t<tr><td>10</td><td>0</td><td>0</td><td>0</td></tr>\n",
       "</tbody>\n",
       "</table>\n"
      ],
      "text/latex": [
       "A data.frame: 10 × 4\n",
       "\\begin{tabular}{llll}\n",
       " case & x1 & x2 & x3\\\\\n",
       " <int> & <dbl> & <dbl> & <dbl>\\\\\n",
       "\\hline\n",
       "\t  1 & 1 & 0 & 0\\\\\n",
       "\t  2 & 1 & 1 & 1\\\\\n",
       "\t  3 & 0 & 0 & 1\\\\\n",
       "\t  4 & 1 & 1 & 1\\\\\n",
       "\t  5 & 0 & 0 & 0\\\\\n",
       "\t  6 & 0 & 1 & 1\\\\\n",
       "\t  7 & 1 & 1 & 1\\\\\n",
       "\t  8 & 0 & 0 & 0\\\\\n",
       "\t  9 & 1 & 1 & 1\\\\\n",
       "\t 10 & 0 & 0 & 0\\\\\n",
       "\\end{tabular}\n"
      ],
      "text/markdown": [
       "\n",
       "A data.frame: 10 × 4\n",
       "\n",
       "| case &lt;int&gt; | x1 &lt;dbl&gt; | x2 &lt;dbl&gt; | x3 &lt;dbl&gt; |\n",
       "|---|---|---|---|\n",
       "|  1 | 1 | 0 | 0 |\n",
       "|  2 | 1 | 1 | 1 |\n",
       "|  3 | 0 | 0 | 1 |\n",
       "|  4 | 1 | 1 | 1 |\n",
       "|  5 | 0 | 0 | 0 |\n",
       "|  6 | 0 | 1 | 1 |\n",
       "|  7 | 1 | 1 | 1 |\n",
       "|  8 | 0 | 0 | 0 |\n",
       "|  9 | 1 | 1 | 1 |\n",
       "| 10 | 0 | 0 | 0 |\n",
       "\n"
      ],
      "text/plain": [
       "   case x1 x2 x3\n",
       "1   1   1  0  0 \n",
       "2   2   1  1  1 \n",
       "3   3   0  0  1 \n",
       "4   4   1  1  1 \n",
       "5   5   0  0  0 \n",
       "6   6   0  1  1 \n",
       "7   7   1  1  1 \n",
       "8   8   0  0  0 \n",
       "9   9   1  1  1 \n",
       "10 10   0  0  0 "
      ]
     },
     "metadata": {},
     "output_type": "display_data"
    }
   ],
   "source": [
    "# input of the dataset\n",
    "case  <- 1:10\n",
    "x1    <- c(1,1,0,1,0,0,1,0,1,0)\n",
    "x2    <- c(0,1,0,1,0,1,1,0,1,0)\n",
    "x3    <- c(0,1,1,1,0,1,1,0,1,0)\n",
    "\n",
    "D <- data.frame(case, x1, x2, x3)\n",
    "D"
   ]
  },
  {
   "cell_type": "markdown",
   "id": "7fd41e4b",
   "metadata": {},
   "source": [
    "Where each record (row) is called $case$.\n",
    "In particular we want to find dependencies among the variables Z = {x1, x2, x3} in D. \n",
    "\n",
    "The idea is to build an algorithm that provides the most probable (higher posterior) Bayesian belief network structure B given D and some assumptions about our prior probabilistic knowledge on the domain.\n",
    "\n",
    "Where A belief network is defined by B =($B_s$, $B_p$).\n",
    "\n",
    "  add scheme \n",
    "\n",
    "\n",
    "#### assumptions for computing $P(B_s, D)$\n",
    "* 1- The database variables, which we denote as Z, are discrete.\n",
    "* 2-  Cases occur independently, given a belief-network model.\n",
    "* 3- There are no cases that have variables with missing values.\n",
    "* 4- The likelihhod function f(BelBs) is uniform.\n",
    "\n",
    "#### notation\n",
    "* m = cases in D\n",
    "* $parents$: variables related to $x_i$\n",
    "* $\\pi_i$ = set of parents related to $x_i$\n",
    "* If a node has no parents, then a prior-probability function $P(x_i)$ is specified\n",
    "* $w_{ij}$ a value of $\\pi_i$\n",
    "* $Z = \\{x\\}_i$, i = 1,..,n set of variables\n",
    "* n = Z size \n",
    "* $v_i = (v_{i1},...,v_{ir_i})$ : possible value assignments\n",
    "* $r_i$ = size of $v_i$\n",
    "* $w_i = \\{ w_{ij}, j = 1,..,r_j\\}$ unique instantiation of $\\pi_i$ relative to D. \n",
    "* $q_i$ = size of $w_i$ \n",
    "* $N_{ijk}$: number of cases in D in which variable $x_i$ has the value $v_{ik}$ and $\\pi_i$ is instantiated as $w_{ij}$\n",
    "#### in our problem: \n",
    "\n",
    "* m = 10\n",
    "* n = 3\n",
    "* Z = {$x_1$, $x_2$, $x_3$}\n",
    "* $r_1$ = $r_2$ = $r_3$ = 2\n",
    "* $v_i = (v_{i1},...,v_{ir_i})$ = $(v_{i1},v_{i2})$=(0,1) \n",
    "* $q_1$ = $q_2$ = $q_3$ = 2\n",
    "* $w_i = (w_{i1},...,w_{iq_i})$ = $(w_{i1},w_{i2})$=(0,1) \n",
    "* $N_{111}$ = dove $x_1$ ha il valore 0 e i suoi parents anche (non ha parents) = 5\n",
    "* $N_{112}$ = 5\n",
    "* $N_{121}$ = 5\n",
    "* $N_{122}$ = 5\n",
    "\n",
    "* $N_{211}$ = 4 dove $x_2$ ha il valore 0 e i suoi parenti ($x_1$) anche\n",
    "* $N_{212}$ = 1 dove $x_2$ ha il valore 1 e i suoi parenti ($x_1$) 0 \n",
    "* $N_{221}$ = 1\n",
    "* $N_{222}$ = 4\n",
    "\n",
    "* $N_{311}$ = ($x_3$ = 0, $x_2$ = 0) = 4\n",
    "* $N_{312}$ = ($x_3$ = 1, $x_2$ = 0) = 1\n",
    "* $N_{321}$ = ($x_3$ = 0, $x_2$ = 1) = 0\n",
    "* $N_{322}$ = ($x_3$ = 1, $x_2$ = 1) = 5"
   ]
  },
  {
   "cell_type": "code",
   "execution_count": 3,
   "id": "1c81f896",
   "metadata": {},
   "outputs": [
    {
     "data": {
      "text/html": [
       "<table class=\"dataframe\">\n",
       "<caption>A matrix: 2 × 2 of type dbl</caption>\n",
       "<tbody>\n",
       "\t<tr><td>1</td><td>5</td></tr>\n",
       "\t<tr><td>2</td><td>4</td></tr>\n",
       "</tbody>\n",
       "</table>\n"
      ],
      "text/latex": [
       "A matrix: 2 × 2 of type dbl\n",
       "\\begin{tabular}{ll}\n",
       "\t 1 & 5\\\\\n",
       "\t 2 & 4\\\\\n",
       "\\end{tabular}\n"
      ],
      "text/markdown": [
       "\n",
       "A matrix: 2 × 2 of type dbl\n",
       "\n",
       "| 1 | 5 |\n",
       "| 2 | 4 |\n",
       "\n"
      ],
      "text/plain": [
       "     [,1] [,2]\n",
       "[1,] 1    5   \n",
       "[2,] 2    4   "
      ]
     },
     "metadata": {},
     "output_type": "display_data"
    },
    {
     "data": {
      "text/html": [
       "<style>\n",
       ".list-inline {list-style: none; margin:0; padding: 0}\n",
       ".list-inline>li {display: inline-block}\n",
       ".list-inline>li:not(:last-child)::after {content: \"\\00b7\"; padding: 0 .5ex}\n",
       "</style>\n",
       "<ol class=list-inline><li>120</li><li>24</li></ol>\n"
      ],
      "text/latex": [
       "\\begin{enumerate*}\n",
       "\\item 120\n",
       "\\item 24\n",
       "\\end{enumerate*}\n"
      ],
      "text/markdown": [
       "1. 120\n",
       "2. 24\n",
       "\n",
       "\n"
      ],
      "text/plain": [
       "[1] 120  24"
      ]
     },
     "metadata": {},
     "output_type": "display_data"
    },
    {
     "data": {
      "text/html": [
       "20"
      ],
      "text/latex": [
       "20"
      ],
      "text/markdown": [
       "20"
      ],
      "text/plain": [
       "[1] 20"
      ]
     },
     "metadata": {},
     "output_type": "display_data"
    },
    {
     "data": {
      "text/html": [
       "2880"
      ],
      "text/latex": [
       "2880"
      ],
      "text/markdown": [
       "2880"
      ],
      "text/plain": [
       "[1] 2880"
      ]
     },
     "metadata": {},
     "output_type": "display_data"
    }
   ],
   "source": [
    "vi <- unique(D$x1)\n",
    "ri <- length(vi)\n",
    "\n",
    "N <- matrix(nrow = 2, ncol = 2)\n",
    "\n",
    "N[1] <- 1\n",
    "N[2] <- 2\n",
    "N[3] <- 3\n",
    "N[4] <- 4\n",
    "N[row = 1, col = 2] <- 5\n",
    "N\n",
    "factorial(N[, col = 2])\n",
    "prod(N[, col = 2])\n",
    "prod(factorial(N[, col = 2]))"
   ]
  },
  {
   "cell_type": "code",
   "execution_count": 4,
   "id": "1c1d6a5c",
   "metadata": {},
   "outputs": [],
   "source": [
    "# da usare dentro K2\n",
    "# gli passo tipo x2 e x1\n",
    "f <- function( xi, pi ){\n",
    "\n",
    "    # possible values xi can take\n",
    "    vi <- unique(xi)\n",
    "    # number of possible values xi can take\n",
    "    ri <- length(vi)\n",
    "    wi <- unique(pi)\n",
    "    qi <- length(wi)\n",
    "    \n",
    "    N <- matrix(nrow = ri, ncol = qi)\n",
    "    f <- 1\n",
    "    for (j in 1:qi){\n",
    "        for (k in 1:ri){\n",
    "            N[row = k, col = j] <- sum(xi == vi[k] & pi == wi[j])\n",
    "            print(N)\n",
    "        }\n",
    "        f <- f*factorial(ri-1)*prod(factorial(N[, col = j]))/factorial(sum(N[, col = j])+ri-1)\n",
    "    }\n",
    "    \n",
    "    return (f)\n",
    "}\n"
   ]
  },
  {
   "cell_type": "code",
   "execution_count": 5,
   "id": "ce062538",
   "metadata": {},
   "outputs": [
    {
     "name": "stdout",
     "output_type": "stream",
     "text": [
      "     [,1] [,2]\n",
      "[1,]    2   NA\n",
      "[2,]   NA   NA\n",
      "     [,1] [,2]\n",
      "[1,]    2   NA\n",
      "[2,]    7   NA\n",
      "     [,1] [,2]\n",
      "[1,]    2    8\n",
      "[2,]    7   NA\n",
      "     [,1] [,2]\n",
      "[1,]    2    8\n",
      "[2,]    7    3\n"
     ]
    },
    {
     "data": {
      "text/html": [
       "1.40291806958474e-06"
      ],
      "text/latex": [
       "1.40291806958474e-06"
      ],
      "text/markdown": [
       "1.40291806958474e-06"
      ],
      "text/plain": [
       "[1] 1.402918e-06"
      ]
     },
     "metadata": {},
     "output_type": "display_data"
    }
   ],
   "source": [
    "xi <- D$x1\n",
    "pi <- c(D$x2, D$x3)\n",
    "f(xi, pi)"
   ]
  },
  {
   "cell_type": "code",
   "execution_count": 13,
   "id": "0d26b13c",
   "metadata": {},
   "outputs": [
    {
     "name": "stdout",
     "output_type": "stream",
     "text": [
      "[1] 1\n",
      "[1] 0\n"
     ]
    }
   ],
   "source": [
    "score <- function(x.i, pi.i){\n",
    "    '\n",
    "    Function to compute the score: it represents the probability of the \n",
    "    database D given that the parents of x.i are pi.i\n",
    "\n",
    "    Inputs:\n",
    "        - x.i: list containing the i-th node of the database\n",
    "        - pi.i: list of parents of node x.i\n",
    "\n",
    "    Output:\n",
    "        - probability of database given pi.i as parents of x.i\n",
    "    '\n",
    "\n",
    "    r.i <- length(unique(unlist(x.i)))\n",
    "    \n",
    "    # case without parents\n",
    "    if(length(pi.i)==0){\n",
    "        alpha <- table(x.i)\n",
    "        N     <- sum(alpha)\n",
    "        prob  <- factorial(r.i-1)/factorial(N+r.i-1)*prod(sapply(alpha,factorial))\n",
    "    }\n",
    "\n",
    "    # standard version with parents\n",
    "    else{\n",
    "        data  <- append(x.i,pi.i)\n",
    "        alpha <- table(data)\n",
    "        # recast in a matrix\n",
    "        if (length(dim(alpha))>2){dim(alpha)<-c(r.i,length(alpha)/r.i)}\n",
    "        # transpose\n",
    "        alpha<-t(alpha)\n",
    "        N.j <- rowSums(alpha)\n",
    "        M.j <- apply(apply(alpha, c(1,2), factorial),1,prod)\n",
    "        prob <- prod(apply(cbind(N.j,M.j),1, function(x) x[2]*factorial(r.i-1)/factorial(x[1] + r.i - 1)))\n",
    "    }\n",
    "\n",
    "    return(prob)\n",
    "}\n",
    "\n",
    "\n",
    "\n",
    "#score(D[2], list(NULL))\n",
    "                           \n",
    "for(j in 1:0) print(j)"
   ]
  },
  {
   "cell_type": "code",
   "execution_count": 14,
   "id": "3c5acc6c",
   "metadata": {},
   "outputs": [],
   "source": [
    "K2 <- function(data, order=c(1,2,3), max.parents=2) {\n",
    "    '\n",
    "    K2 algorithm to learn the topology of a Bayesian Network.\n",
    "\n",
    "    Input:\n",
    "        - data: data.frame with n+1 columns (the first one is the case column)\n",
    "        - order: vector with the ordering of the nodes in data\n",
    "        - max.parents: upper bound on the number of parents a node may have\n",
    "    Output:\n",
    "        - \n",
    "    '\n",
    "    # convert database to a list of vectors\n",
    "    nodes <- as.list(data[, order+1])\n",
    "    # number of nodes\n",
    "    n <- length(nodes)\n",
    "    \n",
    "    # empty vector to store the parents of each node\n",
    "    parents <- rep(NULL, 0)\n",
    "\n",
    "    k2.score <- 0\n",
    "\n",
    "    for( i in 1:n ){\n",
    "        parents[i] <- c()\n",
    "        p.old <- score(nodes[i], parents[i])\n",
    "        \n",
    "        ok.to.proceed <- TRUE\n",
    "        pred_xi <- order[1:i-1]\n",
    "\n",
    "        while(ok.to.proceed & length(parents)<max.parents){\n",
    "            diff   <- append(parents, setdiff(pred_xi, parents))\n",
    "            # create a list with the possible parent nodes to inspect\n",
    "            unions <- nodes[diff]\n",
    "            \n",
    "            # node in Pred(x.i)-pi.i that maximizes score\n",
    "            p.new <- 0\n",
    "            id    <- 0\n",
    "            \n",
    "            if(length(unions)==0){\n",
    "                z.new <- score(nodes[i], NULL)\n",
    "                if(z.new>p.new){\n",
    "                    p.new <- z.new\n",
    "                    id    <- j\n",
    "                }\n",
    "            }\n",
    "            else{\n",
    "                for(j in 1:length(unions)){\n",
    "                    z.new <- score(nodes[i], unions[j])\n",
    "                    if(z.new>p.new){\n",
    "                        p.new <- z.new\n",
    "                        id    <- j\n",
    "                    }\n",
    "                }\n",
    "            }\n",
    "\n",
    "            if(p.new>p.old){\n",
    "                p.old <- p.new\n",
    "                pi.i  <- unions[id] \n",
    "            }\n",
    "            else{\n",
    "                ok.to.proceed<-FALSE\n",
    "            }\n",
    "        }\n",
    "        k2.score <- k2.score + p.old\n",
    "    }\n",
    "}\n",
    "\n",
    "\n",
    "\n",
    "\n",
    "K2(D)\n",
    "# Input: A set of n nodes = 3 \n",
    "#        an ordering on the nodes, (permutation of {1,2,3})\n",
    "#        an upper bound u on the number of parents a node may have (n-1), \n",
    "#        a database D containing m cases\n",
    "# Output: For each node, a printout of the parents of the node.}\n"
   ]
  },
  {
   "cell_type": "code",
   "execution_count": 21,
   "id": "c1a3337a",
   "metadata": {},
   "outputs": [
    {
     "name": "stdout",
     "output_type": "stream",
     "text": [
      "[1] 0.0003607504\n",
      "[1] 0.0003607504\n",
      "[1] 0.0004329004\n"
     ]
    }
   ],
   "source": [
    "\n",
    "data=D\n",
    "order=c(1,2,3)\n",
    "max.parents=2\n",
    "\n",
    "nodes <- as.list(D[, order+1])\n",
    "n <- length(nodes)\n",
    "parents <- rep(NULL, 0)\n",
    "\n",
    "for( i in 1:n ){\n",
    "    parents[i] <- c()\n",
    "    p.old <- score(nodes[i], parents[i])\n",
    "    print(p.old)\n",
    "}\n"
   ]
  },
  {
   "cell_type": "code",
   "execution_count": 131,
   "id": "016d1756",
   "metadata": {},
   "outputs": [
    {
     "data": {
      "text/html": [
       "<dl>\n",
       "\t<dt>$x1</dt>\n",
       "\t\t<dd><style>\n",
       ".list-inline {list-style: none; margin:0; padding: 0}\n",
       ".list-inline>li {display: inline-block}\n",
       ".list-inline>li:not(:last-child)::after {content: \"\\00b7\"; padding: 0 .5ex}\n",
       "</style>\n",
       "<ol class=list-inline><li>1</li><li>1</li><li>0</li><li>1</li><li>0</li><li>0</li><li>1</li><li>0</li><li>1</li><li>0</li></ol>\n",
       "</dd>\n",
       "\t<dt>$x2</dt>\n",
       "\t\t<dd><style>\n",
       ".list-inline {list-style: none; margin:0; padding: 0}\n",
       ".list-inline>li {display: inline-block}\n",
       ".list-inline>li:not(:last-child)::after {content: \"\\00b7\"; padding: 0 .5ex}\n",
       "</style>\n",
       "<ol class=list-inline><li>0</li><li>1</li><li>0</li><li>1</li><li>0</li><li>1</li><li>1</li><li>0</li><li>1</li><li>0</li></ol>\n",
       "</dd>\n",
       "\t<dt>$x3</dt>\n",
       "\t\t<dd><style>\n",
       ".list-inline {list-style: none; margin:0; padding: 0}\n",
       ".list-inline>li {display: inline-block}\n",
       ".list-inline>li:not(:last-child)::after {content: \"\\00b7\"; padding: 0 .5ex}\n",
       "</style>\n",
       "<ol class=list-inline><li>0</li><li>1</li><li>1</li><li>1</li><li>0</li><li>1</li><li>1</li><li>0</li><li>1</li><li>0</li></ol>\n",
       "</dd>\n",
       "</dl>\n"
      ],
      "text/latex": [
       "\\begin{description}\n",
       "\\item[\\$x1] \\begin{enumerate*}\n",
       "\\item 1\n",
       "\\item 1\n",
       "\\item 0\n",
       "\\item 1\n",
       "\\item 0\n",
       "\\item 0\n",
       "\\item 1\n",
       "\\item 0\n",
       "\\item 1\n",
       "\\item 0\n",
       "\\end{enumerate*}\n",
       "\n",
       "\\item[\\$x2] \\begin{enumerate*}\n",
       "\\item 0\n",
       "\\item 1\n",
       "\\item 0\n",
       "\\item 1\n",
       "\\item 0\n",
       "\\item 1\n",
       "\\item 1\n",
       "\\item 0\n",
       "\\item 1\n",
       "\\item 0\n",
       "\\end{enumerate*}\n",
       "\n",
       "\\item[\\$x3] \\begin{enumerate*}\n",
       "\\item 0\n",
       "\\item 1\n",
       "\\item 1\n",
       "\\item 1\n",
       "\\item 0\n",
       "\\item 1\n",
       "\\item 1\n",
       "\\item 0\n",
       "\\item 1\n",
       "\\item 0\n",
       "\\end{enumerate*}\n",
       "\n",
       "\\end{description}\n"
      ],
      "text/markdown": [
       "$x1\n",
       ":   1. 1\n",
       "2. 1\n",
       "3. 0\n",
       "4. 1\n",
       "5. 0\n",
       "6. 0\n",
       "7. 1\n",
       "8. 0\n",
       "9. 1\n",
       "10. 0\n",
       "\n",
       "\n",
       "\n",
       "$x2\n",
       ":   1. 0\n",
       "2. 1\n",
       "3. 0\n",
       "4. 1\n",
       "5. 0\n",
       "6. 1\n",
       "7. 1\n",
       "8. 0\n",
       "9. 1\n",
       "10. 0\n",
       "\n",
       "\n",
       "\n",
       "$x3\n",
       ":   1. 0\n",
       "2. 1\n",
       "3. 1\n",
       "4. 1\n",
       "5. 0\n",
       "6. 1\n",
       "7. 1\n",
       "8. 0\n",
       "9. 1\n",
       "10. 0\n",
       "\n",
       "\n",
       "\n",
       "\n",
       "\n"
      ],
      "text/plain": [
       "$x1\n",
       " [1] 1 1 0 1 0 0 1 0 1 0\n",
       "\n",
       "$x2\n",
       " [1] 0 1 0 1 0 1 1 0 1 0\n",
       "\n",
       "$x3\n",
       " [1] 0 1 1 1 0 1 1 0 1 0\n"
      ]
     },
     "metadata": {},
     "output_type": "display_data"
    },
    {
     "name": "stdout",
     "output_type": "stream",
     "text": [
      ", , x3 = 0\n",
      "\n",
      "   x2\n",
      "x1  0 1\n",
      "  0 3 0\n",
      "  1 1 0\n",
      "\n",
      ", , x3 = 1\n",
      "\n",
      "   x2\n",
      "x1  0 1\n",
      "  0 1 1\n",
      "  1 0 4\n",
      "\n"
     ]
    },
    {
     "data": {
      "text/plain": [
       "     [,1] [,2]\n",
       "[1,]    3    1\n",
       "[2,]    0    0\n",
       "[3,]    1    0\n",
       "[4,]    1    4"
      ]
     },
     "metadata": {},
     "output_type": "display_data"
    },
    {
     "data": {
      "text/html": [
       "<style>\n",
       ".list-inline {list-style: none; margin:0; padding: 0}\n",
       ".list-inline>li {display: inline-block}\n",
       ".list-inline>li:not(:last-child)::after {content: \"\\00b7\"; padding: 0 .5ex}\n",
       "</style>\n",
       "<ol class=list-inline><li>4</li><li>0</li><li>1</li><li>5</li></ol>\n"
      ],
      "text/latex": [
       "\\begin{enumerate*}\n",
       "\\item 4\n",
       "\\item 0\n",
       "\\item 1\n",
       "\\item 5\n",
       "\\end{enumerate*}\n"
      ],
      "text/markdown": [
       "1. 4\n",
       "2. 0\n",
       "3. 1\n",
       "4. 5\n",
       "\n",
       "\n"
      ],
      "text/plain": [
       "[1] 4 0 1 5"
      ]
     },
     "metadata": {},
     "output_type": "display_data"
    },
    {
     "data": {
      "text/html": [
       "10"
      ],
      "text/latex": [
       "10"
      ],
      "text/markdown": [
       "10"
      ],
      "text/plain": [
       "[1] 10"
      ]
     },
     "metadata": {},
     "output_type": "display_data"
    },
    {
     "data": {
      "text/html": [
       "<style>\n",
       ".list-inline {list-style: none; margin:0; padding: 0}\n",
       ".list-inline>li {display: inline-block}\n",
       ".list-inline>li:not(:last-child)::after {content: \"\\00b7\"; padding: 0 .5ex}\n",
       "</style>\n",
       "<ol class=list-inline><li>6</li><li>1</li><li>1</li><li>24</li></ol>\n"
      ],
      "text/latex": [
       "\\begin{enumerate*}\n",
       "\\item 6\n",
       "\\item 1\n",
       "\\item 1\n",
       "\\item 24\n",
       "\\end{enumerate*}\n"
      ],
      "text/markdown": [
       "1. 6\n",
       "2. 1\n",
       "3. 1\n",
       "4. 24\n",
       "\n",
       "\n"
      ],
      "text/plain": [
       "[1]  6  1  1 24"
      ]
     },
     "metadata": {},
     "output_type": "display_data"
    },
    {
     "data": {
      "text/html": [
       "0.000833333333333333"
      ],
      "text/latex": [
       "0.000833333333333333"
      ],
      "text/markdown": [
       "0.000833333333333333"
      ],
      "text/plain": [
       "[1] 0.0008333333"
      ]
     },
     "metadata": {},
     "output_type": "display_data"
    },
    {
     "data": {
      "text/html": [
       "<table class=\"dataframe\">\n",
       "<caption>A matrix: 4 × 2 of type dbl</caption>\n",
       "<thead>\n",
       "\t<tr><th scope=col>N.j</th><th scope=col>M.j</th></tr>\n",
       "</thead>\n",
       "<tbody>\n",
       "\t<tr><td>4</td><td> 6</td></tr>\n",
       "\t<tr><td>0</td><td> 1</td></tr>\n",
       "\t<tr><td>1</td><td> 1</td></tr>\n",
       "\t<tr><td>5</td><td>24</td></tr>\n",
       "</tbody>\n",
       "</table>\n"
      ],
      "text/latex": [
       "A matrix: 4 × 2 of type dbl\n",
       "\\begin{tabular}{ll}\n",
       " N.j & M.j\\\\\n",
       "\\hline\n",
       "\t 4 &  6\\\\\n",
       "\t 0 &  1\\\\\n",
       "\t 1 &  1\\\\\n",
       "\t 5 & 24\\\\\n",
       "\\end{tabular}\n"
      ],
      "text/markdown": [
       "\n",
       "A matrix: 4 × 2 of type dbl\n",
       "\n",
       "| N.j | M.j |\n",
       "|---|---|\n",
       "| 4 |  6 |\n",
       "| 0 |  1 |\n",
       "| 1 |  1 |\n",
       "| 5 | 24 |\n",
       "\n"
      ],
      "text/plain": [
       "     N.j M.j\n",
       "[1,] 4    6 \n",
       "[2,] 0    1 \n",
       "[3,] 1    1 \n",
       "[4,] 5   24 "
      ]
     },
     "metadata": {},
     "output_type": "display_data"
    }
   ],
   "source": [
    "i=1\n",
    "r=2\n",
    "order=c(1,2,3)\n",
    "nodes <- as.list(D[, order+1])\n",
    "pii=nodes[c(2,3)]\n",
    "data1 <- append(nodes[i],pii)\n",
    "data1\n",
    "\n",
    "\n",
    "alpha <- table(data1)\n",
    "print(alpha)\n",
    "if (length(dim(alpha))>2){dim(alpha)<-c(r,length(alpha)/r)}\n",
    "alpha<-t(alpha)\n",
    "\n",
    "\n",
    "alpha\n",
    "\n",
    "N.j <- rowSums(alpha)\n",
    "N.j\n",
    "N<-sum(alpha)\n",
    "N\n",
    "\n",
    "\n",
    "M.j <- apply(apply(alpha, c(1,2), factorial),1,prod)\n",
    "prob <- prod(apply(cbind(N.j,M.j),1, function(x) x[2]*factorial(r-1)/factorial(x[1] + r - 1)))\n",
    "                   \n",
    "M.j\n",
    "prob\n",
    "                   \n",
    "cbind(N.j,M.j)"
   ]
  },
  {
   "cell_type": "code",
   "execution_count": 127,
   "id": "d7abdad9",
   "metadata": {},
   "outputs": [
    {
     "name": "stdout",
     "output_type": "stream",
     "text": [
      "   x1 x2 x3\n",
      "1   1  0  0\n",
      "2   1  1  1\n",
      "3   0  0  1\n",
      "4   1  1  1\n",
      "5   0  0  0\n",
      "6   0  1  1\n",
      "7   1  1  1\n",
      "8   0  0  0\n",
      "9   1  1  1\n",
      "10  0  0  0\n",
      ", , x3 = 0\n",
      "\n",
      "   x2\n",
      "x1  0 1\n",
      "  0 3 0\n",
      "  1 1 0\n",
      "\n",
      ", , x3 = 1\n",
      "\n",
      "   x2\n",
      "x1  0 1\n",
      "  0 1 1\n",
      "  1 0 4\n",
      "\n",
      "     [,1] [,2] [,3] [,4]\n",
      "[1,]    3    0    1    1\n",
      "[2,]    1    0    0    4\n",
      "     [,1] [,2]\n",
      "[1,]    3    1\n",
      "[2,]    0    0\n",
      "[3,]    1    0\n",
      "[4,]    1    4\n",
      "[1] 4 0 1 5\n",
      "     N.j M.j\n",
      "[1,]   4   6\n",
      "[2,]   0   1\n",
      "[3,]   1   1\n",
      "[4,]   5  24\n"
     ]
    },
    {
     "data": {
      "text/html": [
       "0.000833333333333333"
      ],
      "text/latex": [
       "0.000833333333333333"
      ],
      "text/markdown": [
       "0.000833333333333333"
      ],
      "text/plain": [
       "[1] 0.0008333333"
      ]
     },
     "metadata": {},
     "output_type": "display_data"
    }
   ],
   "source": [
    "myscore <- function(i, pi, D){\n",
    "    # number of possible ourcomes for node i\n",
    "    r <- length(unique(D[,i]))  \n",
    "    # generalized formula for no-parent case (from paper)\n",
    "    if (length(pi) == 0){\n",
    "        alpha <- table(D[i])\n",
    "        N <- sum(alpha)\n",
    "        prob <- factorial(r-1)/factorial(N+r-1)*prod(sapply(alpha,factorial))\n",
    "    }\n",
    "    # standard formula (from paper)\n",
    "    else{ \n",
    "        D2 <- cbind(D[i],D[pi])\n",
    "        print(D2)\n",
    "        alpha <- table(D2)\n",
    "        print(alpha)\n",
    "        if (length(dim(alpha))>2){dim(alpha)<-c(r,length(alpha)/r)}\n",
    "        print(alpha)\n",
    "        alpha <- t(alpha)\n",
    "        print(alpha)\n",
    "        N.j <- rowSums(alpha)\n",
    "        print(N.j)\n",
    "        M.j <- apply(apply(alpha, c(1,2), factorial),1,prod)\n",
    "        print(cbind(N.j,M.j))\n",
    "        prob <- prod(apply(cbind(N.j,M.j),1, function(x) x[2]*factorial(r-1)/factorial(x[1] + r - 1))) \n",
    "    }\n",
    "    return (prob)\n",
    "}\n",
    "                           \n",
    "myscore(2, c(3,4), D)\n",
    "                           \n",
    "#c(D[3], D[4])"
   ]
  },
  {
   "cell_type": "code",
   "execution_count": 153,
   "id": "6dd66544",
   "metadata": {},
   "outputs": [
    {
     "data": {
      "text/html": [
       "<style>\n",
       ".list-inline {list-style: none; margin:0; padding: 0}\n",
       ".list-inline>li {display: inline-block}\n",
       ".list-inline>li:not(:last-child)::after {content: \"\\00b7\"; padding: 0 .5ex}\n",
       "</style>\n",
       "<ol class=list-inline><li>1</li><li>2</li></ol>\n"
      ],
      "text/latex": [
       "\\begin{enumerate*}\n",
       "\\item 1\n",
       "\\item 2\n",
       "\\end{enumerate*}\n"
      ],
      "text/markdown": [
       "1. 1\n",
       "2. 2\n",
       "\n",
       "\n"
      ],
      "text/plain": [
       "[1] 1 2"
      ]
     },
     "metadata": {},
     "output_type": "display_data"
    },
    {
     "data": {
      "text/html": [
       "<style>\n",
       ".list-inline {list-style: none; margin:0; padding: 0}\n",
       ".list-inline>li {display: inline-block}\n",
       ".list-inline>li:not(:last-child)::after {content: \"\\00b7\"; padding: 0 .5ex}\n",
       "</style>\n",
       "<ol class=list-inline><li>1</li><li>2</li></ol>\n"
      ],
      "text/latex": [
       "\\begin{enumerate*}\n",
       "\\item 1\n",
       "\\item 2\n",
       "\\end{enumerate*}\n"
      ],
      "text/markdown": [
       "1. 1\n",
       "2. 2\n",
       "\n",
       "\n"
      ],
      "text/plain": [
       "[1] 1 2"
      ]
     },
     "metadata": {},
     "output_type": "display_data"
    },
    {
     "data": {
      "text/html": [
       "<ol>\n",
       "\t<li>1</li>\n",
       "\t<li>2</li>\n",
       "</ol>\n"
      ],
      "text/latex": [
       "\\begin{enumerate}\n",
       "\\item 1\n",
       "\\item 2\n",
       "\\end{enumerate}\n"
      ],
      "text/markdown": [
       "1. 1\n",
       "2. 2\n",
       "\n",
       "\n"
      ],
      "text/plain": [
       "[[1]]\n",
       "[1] 1\n",
       "\n",
       "[[2]]\n",
       "[1] 2\n"
      ]
     },
     "metadata": {},
     "output_type": "display_data"
    },
    {
     "data": {
      "text/html": [
       "<pre class=language-r><code>function (x, y, ...) \n",
       "UseMethod(\"union\")</code></pre>"
      ],
      "text/latex": [
       "\\begin{minted}{r}\n",
       "function (x, y, ...) \n",
       "UseMethod(\"union\")\n",
       "\\end{minted}"
      ],
      "text/markdown": [
       "```r\n",
       "function (x, y, ...) \n",
       "UseMethod(\"union\")\n",
       "```"
      ],
      "text/plain": [
       "function (x, y, ...) \n",
       "UseMethod(\"union\")\n",
       "<bytecode: 0x5604fd6c1550>\n",
       "<environment: namespace:generics>"
      ]
     },
     "metadata": {},
     "output_type": "display_data"
    },
    {
     "data": {
      "text/html": [
       "1"
      ],
      "text/latex": [
       "1"
      ],
      "text/markdown": [
       "1"
      ],
      "text/plain": [
       "[1] 1"
      ]
     },
     "metadata": {},
     "output_type": "display_data"
    }
   ],
   "source": [
    "parent=rep(NULL, 0)\n",
    "nodes <- c(1,2,3)\n",
    "pred_xi <- nodes[1:3-1]\n",
    "pred_xi\n",
    "\n",
    "diff <- setdiff(pred_xi, parent)\n",
    "diff\n",
    "\n",
    "unions <- lapply(diff, union, parent)\n",
    "unions\n",
    "\n",
    "new.parent <- unlist(unions[which.max(sapply(unions, function(x) score(x.i = D[2], c(D[3], D[4]))))])\n",
    "new.parent"
   ]
  },
  {
   "cell_type": "code",
   "execution_count": null,
   "id": "a8a4e934",
   "metadata": {},
   "outputs": [],
   "source": []
  }
 ],
 "metadata": {
  "@webio": {
   "lastCommId": null,
   "lastKernelId": null
  },
  "kernelspec": {
   "display_name": "R",
   "language": "R",
   "name": "ir"
  },
  "language_info": {
   "codemirror_mode": "r",
   "file_extension": ".r",
   "mimetype": "text/x-r-source",
   "name": "R",
   "pygments_lexer": "r",
   "version": "4.1.3"
  }
 },
 "nbformat": 4,
 "nbformat_minor": 5
}
